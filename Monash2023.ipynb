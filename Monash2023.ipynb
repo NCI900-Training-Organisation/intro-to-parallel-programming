{
 "cells": [
  {
   "cell_type": "markdown",
   "metadata": {},
   "source": [
    "# Introduction to Parall Programming (NCI-ResTech 2023)"
   ]
  },
  {
   "cell_type": "code",
   "execution_count": 3,
   "metadata": {},
   "outputs": [],
   "source": [
    "import os\n",
    "# the jupyter notebook is launched from your $HOME, change the working directory provided a username directory is created under /scratch/vp91\n",
    "os.chdir(os.path.expandvars(\"/scratch/vp91/$USER/intro-to-parallel-programming\"))"
   ]
  },
  {
   "cell_type": "markdown",
   "metadata": {},
   "source": [
    "## 1. OpenMP\n",
    "Our example ([monte-carlo-pi-serial](./monte-carlo-pi-serial.c)) for you to get a hang of  parallel programming is slightly more complicated than a helloword program. Nevertheless, it is a simple snippet showcasing a basic openmp program. \n",
    "\n",
    "The program approximates Pi by Monte-Carlo method. Run the next cell to compile and execute the serial code.\n"
   ]
  },
  {
   "cell_type": "code",
   "execution_count": 3,
   "metadata": {},
   "outputs": [
    {
     "name": "stdout",
     "output_type": "stream",
     "text": [
      "rm -f *.o monte-carlo-pi-openacc monte-carlo-pi-openmp monte-carlo-pi-serial monte-carlo-pi-mpi\n",
      "gcc -g -Wall -fopenmp -o monte-carlo-pi-serial monte-carlo-pi-serial.c -lm\n",
      "Compilation Successful!\n",
      "MATH Pi 3.141593\n",
      "/////////////////////////////////////////////////////\n",
      "Sampling points 4000000; Hit numbers 3140491; Approx Pi 3.140491, Total time in 0.062679 seconds \n",
      "Sampling points 8000000; Hit numbers 6280912; Approx Pi 3.140456, Total time in 0.097134 seconds \n",
      "Sampling points 16000000; Hit numbers 12564521; Approx Pi 3.141130, Total time in 0.194175 seconds \n",
      "Sampling points 32000000; Hit numbers 25129332; Approx Pi 3.141167, Total time in 0.387351 seconds \n",
      "Sampling points 64000000; Hit numbers 50264754; Approx Pi 3.141547, Total time in 0.771435 seconds \n",
      "Sampling points 128000000; Hit numbers 100528445; Approx Pi 3.141514, Total time in 1.545127 seconds \n",
      "Sampling points 256000000; Hit numbers 201063451; Approx Pi 3.141616, Total time in 3.090718 seconds \n",
      "Sampling points 512000000; Hit numbers 402122918; Approx Pi 3.141585, Total time in 6.171999 seconds \n",
      "Sampling points 1024000000; Hit numbers 804250330; Approx Pi 3.141603, Total time in 12.341013 seconds \n"
     ]
    }
   ],
   "source": [
    "!make clean && make mc-serial && echo \"Compilation Successful!\" && ./monte-carlo-pi-serial"
   ]
  },
  {
   "cell_type": "markdown",
   "metadata": {},
   "source": [
    "The multithreading version is implemented at ([monte-carlo-pi-openmp.c](./monte-carlo-pi-openmp.c)) by OpenMP. In essence, $N$ number of randowm numbers are distributed to multiple threads. \n"
   ]
  },
  {
   "cell_type": "markdown",
   "metadata": {},
   "source": [
    "Run the next cell to compile the OpenMP code."
   ]
  },
  {
   "cell_type": "code",
   "execution_count": 4,
   "metadata": {},
   "outputs": [
    {
     "name": "stdout",
     "output_type": "stream",
     "text": [
      "rm -f *.o monte-carlo-pi-openacc monte-carlo-pi-openmp monte-carlo-pi-serial monte-carlo-pi-mpi\n",
      "gcc  -g -fopenmp -Wall -o monte-carlo-pi-openmp monte-carlo-pi-openmp.c -lm\n",
      "Compilation Successful!\n"
     ]
    }
   ],
   "source": [
    "!make clean && make mc-omp && echo \"Compilation Successful!\" "
   ]
  },
  {
   "cell_type": "markdown",
   "metadata": {},
   "source": [
    "Run the program with a fixed number of threads"
   ]
  },
  {
   "cell_type": "code",
   "execution_count": 7,
   "metadata": {},
   "outputs": [
    {
     "name": "stdout",
     "output_type": "stream",
     "text": [
      "MATH Pi 3.141593\n",
      "/////////////////////////////////////////////////////\n",
      "Sampling points 4000000; Hit numbers 3141252; Approx Pi 3.141252, Total time in 0.022828 seconds \n",
      "Sampling points 8000000; Hit numbers 6282531; Approx Pi 3.141265, Total time in 0.020827 seconds \n",
      "Sampling points 16000000; Hit numbers 12565102; Approx Pi 3.141275, Total time in 0.030763 seconds \n",
      "Sampling points 32000000; Hit numbers 25130302; Approx Pi 3.141288, Total time in 0.036118 seconds \n",
      "Sampling points 64000000; Hit numbers 50267098; Approx Pi 3.141694, Total time in 0.071238 seconds \n",
      "Sampling points 128000000; Hit numbers 100533295; Approx Pi 3.141665, Total time in 0.141738 seconds \n",
      "Sampling points 256000000; Hit numbers 201062526; Approx Pi 3.141602, Total time in 0.283192 seconds \n",
      "Sampling points 512000000; Hit numbers 402117088; Approx Pi 3.141540, Total time in 0.566267 seconds \n"
     ]
    }
   ],
   "source": [
    "!OMP_NUM_THREADS=12 ./monte-carlo-pi-openmp"
   ]
  },
  {
   "cell_type": "markdown",
   "metadata": {},
   "source": [
    "## 2. OpenACC\n",
    "Now we offload the computation to a GPU to accelerate the for-loop. To this end, firstly we need to load NVIDIA HPC STK module on Gadi.\n",
    "\n",
    "**`TODO`**: Refactor [monte-carlo-pi-openacc.c](./monte-carlo-pi-openacc.c) by changing to OpenACC clauses. \n",
    "\n",
    "Since we will compile with managed memory, there's no need to include data transfer clauses. But this will come to an issue for gaining more performance.\n",
    "\n",
    "The following flags are used in compiling the OpenACC code:\n",
    "\n",
    "-Minfo=accel: Show the information about the accelerated code by OpenACC\n",
    "\n",
    "-ta:telsa=mamaged: Target OpenACC to Nvidia GPUs with mamanged memory\n",
    "\n",
    "We also use NVTX libray which provides annotations for profiling the code.\n",
    "\n",
    "If you are getting stuck, peek the solution at ([solution](./solution/monte-carlo-pi-openacc.c))\n",
    "\n",
    "Once you have rendered the code with correct OpenACC, run the next cell to compile and execute the program."
   ]
  },
  {
   "cell_type": "code",
   "execution_count": 9,
   "metadata": {},
   "outputs": [
    {
     "name": "stdout",
     "output_type": "stream",
     "text": [
      "rm -f *.o monte-carlo-pi-openacc monte-carlo-pi-openmp monte-carlo-pi-serial monte-carlo-pi-mpi\n",
      "nvc -g -Wall -acc -Minfo=accel -ta=tesla:managed  -o monte-carlo-pi-openacc monte-carlo-pi-openacc.c -lm -lnvToolsExt\n",
      "calc_pi:\n",
      "     39, Generating NVIDIA GPU code\n",
      "         39, #pragma acc loop gang, vector(128) /* blockIdx.x threadIdx.x */\n",
      "             Generating reduction(+:count)\n",
      "     39, Generating implicit copyin(random_array[:]) [if not already present]\n",
      "         Generating implicit copy(count) [if not already present]\n",
      "Compilation Successful!\n",
      "MATH Pi 3.141593\n",
      "Sampling points 4000000; Hit numbers 3140674; Approx Pi 3.140674, Total time in 0.234260 seconds \n",
      "Sampling points 8000000; Hit numbers 6283325; Approx Pi 3.141662, Total time in 0.160224 seconds \n",
      "Sampling points 16000000; Hit numbers 12566906; Approx Pi 3.141726, Total time in 0.306184 seconds \n",
      "Sampling points 32000000; Hit numbers 25132897; Approx Pi 3.141612, Total time in 0.575987 seconds \n",
      "Sampling points 64000000; Hit numbers 50268023; Approx Pi 3.141751, Total time in 1.141901 seconds \n",
      "Sampling points 128000000; Hit numbers 100531945; Approx Pi 3.141623, Total time in 2.230210 seconds \n",
      "Sampling points 256000000; Hit numbers 201057520; Approx Pi 3.141524, Total time in 4.412010 seconds \n",
      "Sampling points 512000000; Hit numbers 402117949; Approx Pi 3.141546, Total time in 8.782455 seconds \n"
     ]
    }
   ],
   "source": [
    "!cd solution && make clean && make mc-acc && echo \"Compilation Successful!\" && ./monte-carlo-pi-openacc"
   ]
  },
  {
   "cell_type": "code",
   "execution_count": 11,
   "metadata": {},
   "outputs": [
    {
     "name": "stdout",
     "output_type": "stream",
     "text": [
      "rm -f *.o monte-carlo-pi-openacc monte-carlo-pi-openmp monte-carlo-pi-serial monte-carlo-pi-mpi\n",
      "nvcc -g  -Xcompiler -Wall   -o monte-carlo-pi-cuda monte-carlo-pi-cuda.cu -lm -lnvToolsExt\n",
      "Compilation Successful!\n",
      "MATH Pi 3.141593\n",
      "/////////////////////////////////////////////////////\n",
      "Sampling points 4000000; Hit numbers 0; Approx Pi 0.000000\n",
      "Sampling points 8000000; Hit numbers 0; Approx Pi 0.000000\n",
      "Sampling points 16000000; Hit numbers 0; Approx Pi 0.000000\n",
      "Sampling points 32000000; Hit numbers 0; Approx Pi 0.000000\n",
      "Sampling points 64000000; Hit numbers 0; Approx Pi 0.000000\n",
      "Sampling points 128000000; Hit numbers 0; Approx Pi 0.000000\n",
      "Sampling points 256000000; Hit numbers 0; Approx Pi 0.000000\n",
      "Sampling points 512000000; Hit numbers 0; Approx Pi 0.000000\n"
     ]
    }
   ],
   "source": [
    "!cd solution && make clean && make mc-cuda && echo \"Compilation Successful!\" && ./monte-carlo-pi-cuda"
   ]
  },
  {
   "cell_type": "markdown",
   "metadata": {},
   "source": [
    "Now we will demonstrate how to submit a batch job."
   ]
  },
  {
   "cell_type": "markdown",
   "metadata": {},
   "source": [
    "## 3. MPI\n",
    "Our last parallel programming model uses MPI. The total $N$ number of random numbers are split into multiple processors. Each process independtely calculates the number of random numbers that are locally stored witthin the process. The results of each individual MPI rank are collected and summed at a root process (MPI rank 0). \n",
    "\n",
    "Look out for the following parts in the program ([monte-carlo-pi-mpi.c](./monte-carlo-pi-mpi.c)).\n",
    "```cpp\n",
    "#include <mpi.h>\n",
    "\n",
    "MPI_Init(&argc, &argv);\n",
    "\n",
    "MPI_Comm_rank(MPI_COMM_WORLD, &rank);\n",
    "\n",
    "MPI_Comm_size(MPI_COMM_WORLD, &size);\n",
    "\n",
    "MPI_Wtime();\n",
    "\n",
    "MPI_Reduce(&count, &count_tot, 1, MPI_INT, MPI_SUM, 0, MPI_COMM_WORLD);\n",
    "\n",
    "MPI_Barrier(MPI_COMM_WORLD);\n",
    "\n",
    "MPI_Finalize();\n",
    "```\n",
    "\n",
    "Run the next cell to excute the MC_pi program."
   ]
  },
  {
   "cell_type": "code",
   "execution_count": null,
   "metadata": {},
   "outputs": [],
   "source": [
    "!cd make clean && make mc-mpi && echo \"Compilation Successful!\" && mpiexec -np 4 ./monte-carlo-pi-mpi"
   ]
  },
  {
   "cell_type": "markdown",
   "metadata": {},
   "source": [
    "### Profile with mpiP\n",
    "\n",
    "Run the next cell to inspect the profiling results."
   ]
  },
  {
   "cell_type": "code",
   "execution_count": null,
   "metadata": {},
   "outputs": [],
   "source": [
    "!cat *.mpiP\n",
    "!rm -r *.mpiP"
   ]
  }
 ],
 "metadata": {
  "interpreter": {
   "hash": "767d51c1340bd893661ea55ea3124f6de3c7a262a8b4abca0554b478b1e2ff90"
  },
  "kernelspec": {
   "display_name": "Python 3 (ipykernel)",
   "language": "python",
   "name": "python3"
  },
  "language_info": {
   "codemirror_mode": {
    "name": "ipython",
    "version": 3
   },
   "file_extension": ".py",
   "mimetype": "text/x-python",
   "name": "python",
   "nbconvert_exporter": "python",
   "pygments_lexer": "ipython3",
   "version": "3.9.2"
  }
 },
 "nbformat": 4,
 "nbformat_minor": 4
}
